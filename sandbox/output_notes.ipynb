{
 "cells": [
  {
   "cell_type": "markdown",
   "metadata": {},
   "source": [
    "#### This folder contains the elements needed for the full current buoy script to work.\n",
    "Goal: To get a data output of u,v coordinates for water speed, written to a CSV  at 5min increments\n",
    "\n",
    "##### Files\n",
    "read_register - understands the data elements coming from the BN-880. \n",
    "Expands on read_register to dial in approximate compass headings."
   ]
  },
  {
   "cell_type": "code",
   "execution_count": null,
   "metadata": {},
   "outputs": [],
   "source": []
  },
  {
   "cell_type": "markdown",
   "metadata": {},
   "source": [
    "#### Output notes\n",
    "##### read_register.py\n",
    "When run, you get x/y/z coordinates. X=0 is somewhere NW, Y=0 is E\n",
    "\n",
    "##### trig.py"
   ]
  }
 ],
 "metadata": {
  "language_info": {
   "name": "python"
  }
 },
 "nbformat": 4,
 "nbformat_minor": 2
}
